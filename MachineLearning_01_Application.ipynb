{
 "cells": [
  {
   "cell_type": "code",
   "execution_count": 29,
   "metadata": {},
   "outputs": [
    {
     "name": "stdout",
     "output_type": "stream",
     "text": [
      "MSE:42143.90661929586\n"
     ]
    }
   ],
   "source": [
    "import pandas as pd\n",
    "from sklearn.model_selection import train_test_split\n",
    "from sklearn.ensemble import GradientBoostingRegressor\n",
    "from sklearn.metrics import mean_squared_error\n",
    "\n",
    "#Leitura de dados\n",
    "df=pd.read_csv('dec_simples.csv',sep=';',decimal=',')\n",
    "\n",
    "#Separando entre features e labels\n",
    "X=df.drop(columns='decimo_terceiro')\n",
    "y=df.loc[:,'decimo_terceiro']\n",
    "\n",
    "#separar entre dados de treino e teste\n",
    "X_train, X_test, y_train, y_test = train_test_split(X, y, test_size=0.2, random_state=42)\n",
    "\n",
    "#instanciando o modelo\n",
    "grad_boosting=GradientBoostingRegressor(random_state=42)\n",
    "\n",
    "#treinando o modelo\n",
    "grad_boosting.fit(X_train,y_train)\n",
    "\n",
    "#prevendo nos dados de teste\n",
    "y_pred=grad_boosting.predict(X_test)\n",
    "\n",
    "#avaliando o meu modelo\n",
    "mse=mean_squared_error(y_test,y_pred)\n",
    "\n",
    "print('MSE:{}'.format(mse))"
   ]
  },
  {
   "cell_type": "code",
   "execution_count": null,
   "metadata": {},
   "outputs": [],
   "source": []
  },
  {
   "cell_type": "code",
   "execution_count": null,
   "metadata": {},
   "outputs": [],
   "source": []
  },
  {
   "cell_type": "code",
   "execution_count": null,
   "metadata": {},
   "outputs": [],
   "source": []
  },
  {
   "cell_type": "code",
   "execution_count": null,
   "metadata": {},
   "outputs": [],
   "source": []
  }
 ],
 "metadata": {
  "kernelspec": {
   "display_name": "Python 3",
   "language": "python",
   "name": "python3"
  },
  "language_info": {
   "codemirror_mode": {
    "name": "ipython",
    "version": 3
   },
   "file_extension": ".py",
   "mimetype": "text/x-python",
   "name": "python",
   "nbconvert_exporter": "python",
   "pygments_lexer": "ipython3",
   "version": "3.7.4"
  }
 },
 "nbformat": 4,
 "nbformat_minor": 4
}
