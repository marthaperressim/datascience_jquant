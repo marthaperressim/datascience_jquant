{
 "cells": [
  {
   "cell_type": "code",
   "execution_count": 152,
   "metadata": {},
   "outputs": [
    {
     "name": "stdout",
     "output_type": "stream",
     "text": [
      "Acc treino: 100.00%\n",
      "Acc teste : 79.89%\n"
     ]
    }
   ],
   "source": [
    "\"\"\"\n",
    "\"\"\"\n",
    "import pandas as pd\n",
    "import numpy as np\n",
    "from sklearn.model_selection import train_test_split\n",
    "from sklearn.linear_model import LogisticRegression\n",
    "from sklearn.ensemble import RandomForestClassifier, GradientBoostingClassifier\n",
    "from sklearn.pipeline import make_pipeline\n",
    "from sklearn.compose import ColumnTransformer\n",
    "from sklearn.impute import SimpleImputer\n",
    "from sklearn.preprocessing import StandardScaler, OneHotEncoder, OrdinalEncoder\n",
    "\n",
    "\n",
    "# constantes\n",
    "PATH_HISTORIC = 'data/titanic_complete.csv'\n",
    "USE_COLS = ['Age', 'Fare', 'Pclass', 'Sex', 'Survived'] # variaveis que usaremos no modelo\n",
    "TEST_SIZE = 0.2\n",
    "RANDOM_SEED = 42\n",
    "N_SPLITS = 10\n",
    "\n",
    "# leitura dos dados e insercao de uma feature sem correlacao com a label\n",
    "df_titanic = pd.read_csv(PATH_HISTORIC, usecols=USE_COLS)\n",
    "df_titanic.loc[:, 'id_rand_feature'] = np.arange(1, df_titanic.shape[0] + 1)\n",
    "\n",
    "# separando entre features e labels\n",
    "X = df_titanic.drop(columns='Survived')\n",
    "y = df_titanic.loc[:, 'Survived']\n",
    "\n",
    "# separando entre dados de treino e teste\n",
    "X_train, X_test, y_train, y_test = train_test_split(X, y, test_size=TEST_SIZE, random_state=RANDOM_SEED)\n",
    "\n",
    "# pipeline colunas numericas\n",
    "cols_num = ['Age', 'Fare']\n",
    "imput_num = SimpleImputer(strategy='mean')\n",
    "scaler_num = StandardScaler()\n",
    "pipe_num = make_pipeline(imput_num, scaler_num)\n",
    "\n",
    "# pipeline colunas categoricas\n",
    "cols_cat = ['Sex']\n",
    "imput_cat = SimpleImputer(strategy='most_frequent')\n",
    "one_hot_cat = OneHotEncoder()\n",
    "pipe_cat = make_pipeline(imput_cat, one_hot_cat)\n",
    "\n",
    "# pipe par Pclass\n",
    "cols_plcass = ['Pclass']\n",
    "ordencod_pclass = OrdinalEncoder(categories=[['baixa', 'media', 'alta']])\n",
    "pipe_pclass = make_pipeline(ordencod_pclass)\n",
    "\n",
    "# column transformer\n",
    "col_transf = ColumnTransformer([\n",
    "                                ('Numerica', pipe_num, cols_num),\n",
    "                                ('Categorica', pipe_cat, cols_cat),\n",
    "                                ('Pclass', pipe_pclass, cols_plcass)], remainder='passthrough')\n",
    "\n",
    "# instanciando modelos, transformadores e kfold\n",
    "rand_forest = RandomForestClassifier(random_state=RANDOM_SEED)\n",
    "grad_boost = GradientBoostingClassifier(random_state=RANDOM_SEED)\n",
    "log_reg = LogisticRegression(random_state=RANDOM_SEED, solver='liblinear')\n",
    "\n",
    "# instanciando o pipelline\n",
    "pipe = make_pipeline(col_transf, rand_forest)\n",
    "\n",
    "# treinando e avaliando nos dados de teste\n",
    "pipe.fit(X_train, y_train)\n",
    "\n",
    "# avaliacao nos de treino e teste\n",
    "print(f'Acc treino: {pipe.score(X_train, y_train)*100:.2f}%')\n",
    "print(f'Acc teste : {pipe.score(X_test, y_test)*100:.2f}%')"
   ]
  },
  {
   "cell_type": "code",
   "execution_count": 153,
   "metadata": {},
   "outputs": [],
   "source": [
    "ohe_fet_names = list(pipe.named_steps['columntransformer'].named_transformers_['Categorica'].named_steps['onehotencoder'].get_feature_names(input_features=cols_cat))\n",
    "feat_names = cols_num + ohe_fet_names + cols_plcass + ['id_rand_feature']\n",
    "feat_impor_features = pipe.named_steps['randomforestclassifier'].feature_importances_"
   ]
  },
  {
   "cell_type": "code",
   "execution_count": 154,
   "metadata": {},
   "outputs": [],
   "source": [
    "df_feat_import = pd.DataFrame({'Feat_Import': feat_impor_features, 'Feat_Names': feat_names}).sort_values(by='Feat_Import', ascending=False)"
   ]
  },
  {
   "cell_type": "code",
   "execution_count": 155,
   "metadata": {},
   "outputs": [
    {
     "data": {
      "text/html": [
       "<div>\n",
       "<style scoped>\n",
       "    .dataframe tbody tr th:only-of-type {\n",
       "        vertical-align: middle;\n",
       "    }\n",
       "\n",
       "    .dataframe tbody tr th {\n",
       "        vertical-align: top;\n",
       "    }\n",
       "\n",
       "    .dataframe thead th {\n",
       "        text-align: right;\n",
       "    }\n",
       "</style>\n",
       "<table border=\"1\" class=\"dataframe\">\n",
       "  <thead>\n",
       "    <tr style=\"text-align: right;\">\n",
       "      <th></th>\n",
       "      <th>Feat_Import</th>\n",
       "      <th>Feat_Names</th>\n",
       "    </tr>\n",
       "  </thead>\n",
       "  <tbody>\n",
       "    <tr>\n",
       "      <th>5</th>\n",
       "      <td>0.223132</td>\n",
       "      <td>id_rand_feature</td>\n",
       "    </tr>\n",
       "    <tr>\n",
       "      <th>1</th>\n",
       "      <td>0.221886</td>\n",
       "      <td>Fare</td>\n",
       "    </tr>\n",
       "    <tr>\n",
       "      <th>0</th>\n",
       "      <td>0.190270</td>\n",
       "      <td>Age</td>\n",
       "    </tr>\n",
       "    <tr>\n",
       "      <th>3</th>\n",
       "      <td>0.163732</td>\n",
       "      <td>Sex_male</td>\n",
       "    </tr>\n",
       "    <tr>\n",
       "      <th>2</th>\n",
       "      <td>0.114794</td>\n",
       "      <td>Sex_female</td>\n",
       "    </tr>\n",
       "    <tr>\n",
       "      <th>4</th>\n",
       "      <td>0.086186</td>\n",
       "      <td>Pclass</td>\n",
       "    </tr>\n",
       "  </tbody>\n",
       "</table>\n",
       "</div>"
      ],
      "text/plain": [
       "   Feat_Import       Feat_Names\n",
       "5     0.223132  id_rand_feature\n",
       "1     0.221886             Fare\n",
       "0     0.190270              Age\n",
       "3     0.163732         Sex_male\n",
       "2     0.114794       Sex_female\n",
       "4     0.086186           Pclass"
      ]
     },
     "execution_count": 155,
     "metadata": {},
     "output_type": "execute_result"
    }
   ],
   "source": [
    "df_feat_import"
   ]
  },
  {
   "cell_type": "code",
   "execution_count": 156,
   "metadata": {},
   "outputs": [
    {
     "data": {
      "image/png": "[encoded data removed]",
      "text/plain": [
       "<Figure size 576x288 with 1 Axes>"
      ]
     },
     "metadata": {
      "needs_background": "light"
     },
     "output_type": "display_data"
    }
   ],
   "source": [
    "import matplotlib.pyplot as plt\n",
    "\n",
    "plt.figure(figsize=(8, 4))\n",
    "plt.bar(df_feat_import.Feat_Names, df_feat_import.Feat_Import)\n",
    "plt.show()"
   ]
  }
 ],
 "metadata": {
  "kernelspec": {
   "display_name": "Python 3",
   "language": "python",
   "name": "python3"
  },
  "language_info": {
   "codemirror_mode": {
    "name": "ipython",
    "version": 3
   },
   "file_extension": ".py",
   "mimetype": "text/x-python",
   "name": "python",
   "nbconvert_exporter": "python",
   "pygments_lexer": "ipython3",
   "version": "3.7.4"
  },
  "toc": {
   "base_numbering": 1,
   "nav_menu": {},
   "number_sections": true,
   "sideBar": true,
   "skip_h1_title": false,
   "title_cell": "Table of Contents",
   "title_sidebar": "Contents",
   "toc_cell": true,
   "toc_position": {},
   "toc_section_display": true,
   "toc_window_display": false
  },
  "varInspector": {
   "cols": {
    "lenName": 16,
    "lenType": 16,
    "lenVar": 40
   },
   "kernels_config": {
    "python": {
     "delete_cmd_postfix": "",
     "delete_cmd_prefix": "del ",
     "library": "var_list.py",
     "varRefreshCmd": "print(var_dic_list())"
    },
    "r": {
     "delete_cmd_postfix": ") ",
     "delete_cmd_prefix": "rm(",
     "library": "var_list.r",
     "varRefreshCmd": "cat(var_dic_list()) "
    }
   },
   "types_to_exclude": [
    "module",
    "function",
    "builtin_function_or_method",
    "instance",
    "_Feature"
   ],
   "window_display": false
  }
 },
 "nbformat": 4,
 "nbformat_minor": 4
}
